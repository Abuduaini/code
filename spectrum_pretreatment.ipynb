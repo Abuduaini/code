{
 "cells": [
  {
   "cell_type": "code",
   "execution_count": 1,
   "metadata": {},
   "outputs": [],
   "source": [
    "import numpy as np\n",
    "import scipy\n",
    "import csv\n",
    "import scipy.io as scio\n",
    "import import_ipynb"
   ]
  },
  {
   "cell_type": "code",
   "execution_count": 2,
   "metadata": {},
   "outputs": [],
   "source": [
    "def max_min_normalize(P):                       \n",
    "    max_P = max(P)\n",
    "    min_P = min(P)\n",
    "    result = (P-min_P)/(max_P-min_P)\n",
    "    return result"
   ]
  },
  {
   "cell_type": "code",
   "execution_count": 3,
   "metadata": {},
   "outputs": [],
   "source": [
    "def subdark(P,dark):          #remove dark current\n",
    "    return P-dark"
   ]
  },
  {
   "cell_type": "code",
   "execution_count": 4,
   "metadata": {},
   "outputs": [],
   "source": [
    "def interp_linear(WL,P,WL_interp):\n",
    "    func = scipy.interpolate.interp1d(WL,P,kind='linear')\n",
    "    spec = func(WL_interp)\n",
    "    return spec"
   ]
  },
  {
   "cell_type": "code",
   "execution_count": 5,
   "metadata": {},
   "outputs": [],
   "source": [
    "def interp_and_norm(WL,P,WL_interp):\n",
    "    func = scipy.interpolate.interp1d(WL,P,kind='linear')\n",
    "    spec = func(WL_interp)\n",
    "    max_spec = max(spec)\n",
    "    min_spec = min(spec)\n",
    "    result = (spec-min_spec)/(max_spec-min_spec)\n",
    "    return result"
   ]
  },
  {
   "cell_type": "code",
   "execution_count": 6,
   "metadata": {},
   "outputs": [],
   "source": [
    "def total_pretreatment(path,filename,WL_interp,dark):\n",
    "    \n",
    "    data = np.loadtxt(open(path+filename),delimiter = ',')\n",
    "    WL = data[0,:]\n",
    "    spec_origin = data[1:,:]                   #原始光谱\n",
    "    spec_subdark = spec_origin-dark            #扣除背景\n",
    "    spec_mean = np.mean(spec_subdark,axis = 0)   #取平均\n",
    "    func = scipy.interpolate.interp1d(WL,spec_mean,kind='linear')\n",
    "    spec_interp = func(WL_interp)              #插值\n",
    "    #归一化\n",
    "    max_spec = max(spec_interp)\n",
    "    min_spec = min(spec_interp)\n",
    "    result = (spec_interp-min_spec)/(max_spec-min_spec)\n",
    "    return result"
   ]
  },
  {
   "cell_type": "code",
   "execution_count": 7,
   "metadata": {},
   "outputs": [],
   "source": [
    "def read_mean_dark(path,filename):\n",
    "    data = np.loadtxt(open(path+filename),delimiter = ',')\n",
    "    WL = data[0,:]\n",
    "    dark_origin = data[1:,:]                   #原始光谱\n",
    "    dark_mean = np.mean(dark_origin,axis = 0)   #取平均\n",
    "    return dark_mean"
   ]
  },
  {
   "cell_type": "code",
   "execution_count": 8,
   "metadata": {},
   "outputs": [],
   "source": [
    "def WL(path,filename):\n",
    "    data = np.loadtxt(open(path+filename),delimiter = ',')\n",
    "    WL = data[0,:]\n",
    "    return WL"
   ]
  },
  {
   "cell_type": "code",
   "execution_count": null,
   "metadata": {},
   "outputs": [],
   "source": []
  }
 ],
 "metadata": {
  "kernelspec": {
   "display_name": "Python 3",
   "language": "python",
   "name": "python3"
  },
  "language_info": {
   "codemirror_mode": {
    "name": "ipython",
    "version": 3
   },
   "file_extension": ".py",
   "mimetype": "text/x-python",
   "name": "python",
   "nbconvert_exporter": "python",
   "pygments_lexer": "ipython3",
   "version": "3.7.0"
  }
 },
 "nbformat": 4,
 "nbformat_minor": 2
}
