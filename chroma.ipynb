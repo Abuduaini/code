{
 "cells": [
  {
   "cell_type": "markdown",
   "metadata": {},
   "source": [
    "# chroma analysis"
   ]
  },
  {
   "cell_type": "code",
   "execution_count": 1,
   "metadata": {},
   "outputs": [],
   "source": [
    "import numpy as np\n",
    "import scipy\n",
    "import csv\n",
    "import scipy.io as scio\n",
    "import import_ipynb\n",
    "import colour\n",
    "from scipy.optimize import curve_fit"
   ]
  },
  {
   "cell_type": "code",
   "execution_count": 2,
   "metadata": {},
   "outputs": [],
   "source": [
    "path = 'F:/code/'"
   ]
  },
  {
   "cell_type": "code",
   "execution_count": 3,
   "metadata": {},
   "outputs": [],
   "source": [
    "def blackbody1931():\n",
    "    B_file = path+'blackbody.csv'\n",
    "    B_data = np.loadtxt(open(B_file),delimiter = ',')\n",
    "    \n",
    "    x_B = B_data[:,0]\n",
    "    y_B = B_data[:,1]\n",
    "    return x_B, y_B"
   ]
  },
  {
   "cell_type": "code",
   "execution_count": 4,
   "metadata": {},
   "outputs": [],
   "source": [
    "def XYZ(WL_interp):\n",
    "    XYZ_file = path+'color_xyz.csv'\n",
    "    XYZ_data = np.loadtxt(open(XYZ_file),delimiter = ',')\n",
    "    \n",
    "    XYZ_WL = XYZ_data[:,0]\n",
    "    X_lambda = XYZ_data[:,1]\n",
    "    Y_lambda = XYZ_data[:,2]\n",
    "    Z_lambda = XYZ_data[:,3]\n",
    "    \n",
    "    Xlambda_fun = scipy.interpolate.interp1d(XYZ_WL,X_lambda,kind='linear')\n",
    "    X_lambda = Xlambda_fun(WL_interp)\n",
    "    Ylambda_fun = scipy.interpolate.interp1d(XYZ_WL,Y_lambda,kind='linear')\n",
    "    Y_lambda = Ylambda_fun(WL_interp)\n",
    "    Zlambda_fun = scipy.interpolate.interp1d(XYZ_WL,Z_lambda,kind='linear')\n",
    "    Z_lambda = Zlambda_fun(WL_interp)\n",
    "    return(X_lambda,Y_lambda,Z_lambda)"
   ]
  },
  {
   "cell_type": "code",
   "execution_count": 5,
   "metadata": {},
   "outputs": [],
   "source": [
    "def chroma_cordinate1931(p,x_lambda,y_lambda,z_lambda):\n",
    "    k = 100/np.sum(p*y_lambda)\n",
    "    X = k*np.sum(p*x_lambda)\n",
    "    Y = k*np.sum(p*y_lambda)\n",
    "    Z = k*np.sum(p*z_lambda)\n",
    "    \n",
    "    x = X/(X+Y+Z)\n",
    "    y = Y/(X+Y+Z)\n",
    "    \n",
    "    return (x,y)"
   ]
  },
  {
   "cell_type": "code",
   "execution_count": 6,
   "metadata": {},
   "outputs": [],
   "source": [
    "def CCT(x,y):\n",
    "    n = (x-0.3290)/(y-0.1870)\n",
    "    CCT = 669*n**4-779*n**3+3660*n**2-7047*n+5652\n",
    "    return CCT"
   ]
  },
  {
   "cell_type": "code",
   "execution_count": 7,
   "metadata": {},
   "outputs": [],
   "source": [
    "def trans_1931_1960(x,y):\n",
    "    u = 4*x/(-2*x+12*y+3)\n",
    "    v = 6*y/(-2*x+12*y+3)\n",
    "    return (u,v)"
   ]
  },
  {
   "cell_type": "code",
   "execution_count": 8,
   "metadata": {},
   "outputs": [],
   "source": [
    "def trans_1931_1976(x,y):\n",
    "    u = 4*x/(-2*x+12*y+3)\n",
    "    v = 9*y/(-2*x+12*y+3)\n",
    "    return (u,v)"
   ]
  },
  {
   "cell_type": "code",
   "execution_count": 9,
   "metadata": {},
   "outputs": [],
   "source": [
    "def rgb(p,x_lambda,y_lambda,z_lambda,WL_interp):\n",
    "    def fun3(x,a1,a2,a3,m1,m2,m3,s1,s2,s3):\n",
    "        return (a1*np.exp(-((x-m1)/s1)**2)+\n",
    "                a2*np.exp(-((x-m2)/s2)**2)+\n",
    "                a3*np.exp(-((x-m3)/s3)**2))\n",
    "    \n",
    "    popt,pcov = curve_fit(fun3,WL_interp,p,\n",
    "                          bounds=([0,0,0,380,500,580,0,0,0],\n",
    "                                  [1,1,1,500,600,780,50,50,50]))\n",
    "    print(popt)\n",
    "    (rx,ry) = chroma_cordinate1931(popt[2]*np.exp(-((WL_interp-popt[5])/popt[8])**2),\n",
    "                                                      x_lambda,y_lambda,z_lambda)\n",
    "    (ru,rv) = trans_1931_1976(rx,ry)\n",
    "    print(ru,rv)\n",
    "    (gx,gy) = chroma_cordinate1931(popt[1]*np.exp(-((WL_interp-popt[4])/popt[7])**2),\n",
    "                                                      x_lambda,y_lambda,z_lambda)\n",
    "    (gu,gv) = trans_1931_1976(gx,gy)\n",
    "    print(gu,gv)\n",
    "    (bx,by) = chroma_cordinate1931(popt[0]*np.exp(-((WL_interp-popt[3])/popt[6])**2),\n",
    "                                                      x_lambda,y_lambda,z_lambda)\n",
    "    (bu,bv) = trans_1931_1976(bx,by)\n",
    "    print(bu,bv)\n",
    "    return(ru,rv,gu,gv,bu,bv)"
   ]
  },
  {
   "cell_type": "code",
   "execution_count": 10,
   "metadata": {},
   "outputs": [],
   "source": [
    "def rgb_1931(p,x_lambda,y_lambda,z_lambda,WL_interp):\n",
    "    def fun3(x,a1,a2,a3,m1,m2,m3,s1,s2,s3):\n",
    "        return (a1*np.exp(-((x-m1)/s1)**2)+\n",
    "                a2*np.exp(-((x-m2)/s2)**2)+\n",
    "                a3*np.exp(-((x-m3)/s3)**2))\n",
    "    \n",
    "    popt,pcov = curve_fit(fun3,WL_interp,p,\n",
    "                          bounds=([0,0,0,380,500,580,0,0,0],\n",
    "                                  [1,1,1,500,600,780,50,50,50]))\n",
    "    \n",
    "    (rx,ry) = chroma_cordinate1931(popt[2]*np.exp(-((WL_interp-popt[5])/popt[8])**2),\n",
    "                                                      x_lambda,y_lambda,z_lambda)\n",
    "    \n",
    "    (gx,gy) = chroma_cordinate1931(popt[1]*np.exp(-((WL_interp-popt[4])/popt[7])**2),\n",
    "                                                      x_lambda,y_lambda,z_lambda)\n",
    "    \n",
    "    (bx,by) = chroma_cordinate1931(popt[0]*np.exp(-((WL_interp-popt[3])/popt[6])**2),\n",
    "                                                      x_lambda,y_lambda,z_lambda)\n",
    "    return(rx,ry,gx,gy,bx,by)"
   ]
  },
  {
   "cell_type": "code",
   "execution_count": 11,
   "metadata": {},
   "outputs": [],
   "source": [
    "def V(WL_interp):\n",
    "    '''visual function'''\n",
    "    file = path+'V_lambda1.csv'\n",
    "    data = np.loadtxt(open(file),delimiter = ',')\n",
    "    WL = data[:,0]\n",
    "    spec_origin = data[:,1]                                #原始光谱\n",
    "    func = scipy.interpolate.interp1d(WL,spec_origin,kind='linear')\n",
    "    V = func(WL_interp)\n",
    "    return(V)\n",
    "\n",
    "def C(WL_interp):\n",
    "    '''circadian function'''\n",
    "    a = 1.741/(1+np.exp(14.397-WL_interp/30.582))\n",
    "    b = np.exp(27.885-WL_interp/17.736)\n",
    "    return(-0.014+a*b/(1+b))\n",
    "\n",
    "def B(WL_interp):\n",
    "    '''\n",
    "    B1 = 6.737*1e-4+0.2361*np.exp(-(WL_interp-416.136)**2/20.276)\n",
    "    B2 = 0.4443*np.exp(-(WL_interp-423.378)**2/215.925)\n",
    "    B3 = 0.8606*np.exp(-(WL_interp-447.663)**2/804.406)\n",
    "    B4 = 0.1505*np.exp(-(WL_interp-480.662)**2/118.811)\n",
    "    B5 = 0.0908*np.exp(-(WL_interp-471.588)**2/2697.525)\n",
    "    B = B1+B2+B3+B4+B5'''\n",
    "    file = path+'B_lambda.csv'\n",
    "    data = np.loadtxt(open(file),delimiter = ',')\n",
    "    WL = data[:,0]\n",
    "    spec_origin = data[:,1]                                #原始光谱\n",
    "    func = scipy.interpolate.interp1d(WL,spec_origin,kind='linear')\n",
    "    B = func(WL_interp)\n",
    "    return(B)"
   ]
  },
  {
   "cell_type": "code",
   "execution_count": 12,
   "metadata": {},
   "outputs": [],
   "source": [
    "def KB(p,WL_interp):\n",
    "    return(np.sum(p*B(WL_interp))/np.sum(p*V(WL_interp))/683)\n",
    "\n",
    "def KC(p,WL_interp):\n",
    "    return(3616*np.sum(p*B(WL_interp))/np.sum(p*V(WL_interp))/683)\n",
    "\n",
    "def RB(p):\n",
    "    blue = np.sum(p[20:121])/np.sum(p)\n",
    "    return(blue)"
   ]
  }
 ],
 "metadata": {
  "kernelspec": {
   "display_name": "Python 3",
   "language": "python",
   "name": "python3"
  },
  "language_info": {
   "codemirror_mode": {
    "name": "ipython",
    "version": 3
   },
   "file_extension": ".py",
   "mimetype": "text/x-python",
   "name": "python",
   "nbconvert_exporter": "python",
   "pygments_lexer": "ipython3",
   "version": "3.7.0"
  }
 },
 "nbformat": 4,
 "nbformat_minor": 2
}
